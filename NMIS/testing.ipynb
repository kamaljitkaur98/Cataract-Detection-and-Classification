{
 "cells": [
  {
   "cell_type": "code",
   "execution_count": 1,
   "metadata": {},
   "outputs": [],
   "source": [
    "import cv2\n",
    "import numpy as np\n",
    "from keras.applications.mobilenet_v2 import preprocess_input\n",
    "from keras.preprocessing.image import ImageDataGenerator, array_to_img, img_to_array, load_img\n",
    "from keras.models import load_model\n",
    "import os\n",
    "from skimage.feature import  greycomatrix, greycoprops\n",
    "from sklearn import preprocessing\n",
    "import numpy as np\n",
    "import pickle\n",
    "from PIL import Image\n",
    "from matplotlib import pyplot as plt\n",
    "intensity_model = load_model('squeezenet.h5')"
   ]
  },
  {
   "cell_type": "code",
   "execution_count": 7,
   "metadata": {},
   "outputs": [
    {
     "name": "stdout",
     "output_type": "stream",
     "text": [
      "Number               \t Filename             \t Actual               \t Predicted            \t Rightly Classified\n",
      "____________________________________________________________________________________________________________________\n",
      "                   1 \t eye10c.jpg           \t healthy eyes         \t healthy eyes         \t True\n",
      "                   2 \t eye12c.jpg           \t healthy eyes         \t healthy eyes         \t True\n",
      "                   3 \t eye13c.jpg           \t healthy eyes         \t healthy eyes         \t True\n",
      "                   4 \t eye1c.jpg            \t healthy eyes         \t healthy eyes         \t True\n",
      "                   5 \t eye9c.jpg            \t healthy eyes         \t healthy eyes         \t True\n",
      "                   6 \t eye16c.jpg           \t mild cataract        \t mild cataract        \t True\n",
      "                   7 \t eye17c.jpg           \t mild cataract        \t healthy eyes         \t False\n",
      "                   8 \t eye20c.jpg           \t mild cataract        \t healthy eyes         \t False\n",
      "                   9 \t eye21c.png           \t mild cataract        \t healthy eyes         \t False\n",
      "                  10 \t eye3c.png            \t mild cataract        \t healthy eyes         \t False\n",
      "                  11 \t eye22c.jpg           \t severe cataract      \t severe cataract      \t True\n",
      "                  12 \t eye2c.jpg            \t severe cataract      \t mild cataract        \t False\n",
      "                  13 \t eye4c.png            \t severe cataract      \t mild cataract        \t False\n",
      "                  14 \t eye5c.png            \t severe cataract      \t mild cataract        \t False\n",
      "                  15 \t eye7c.jpg            \t severe cataract      \t healthy eyes         \t False\n"
     ]
    }
   ],
   "source": [
    "sub_folders = ['healthy eyes', 'mild cataract', 'severe cataract']\n",
    "main_folder = r'C:\\Users\\kamal\\Deep Learning\\IshitaDataset'\n",
    "\n",
    "print(\"{:20s} \\t {:20s} \\t {:20s} \\t {:20s} \\t {}\".format(\"Number\",\"Filename\", \"Actual\", \"Predicted\", \"Rightly Classified\"))\n",
    "print(\"____________________________________________________________________________________________________________________\")\n",
    "count = 0\n",
    "for sub in sub_folders:\n",
    "    path = os.path.join(main_folder,sub)\n",
    "    for file in os.listdir(path):\n",
    "        img = cv2.imread(os.path.join(path,file))\n",
    "        count += 1\n",
    "        img = cv2.resize(img, (224,224), interpolation = cv2.INTER_AREA)\n",
    "        crop = cv2.cvtColor(img, cv2.COLOR_BGR2RGB)\n",
    "        my_image = img_to_array(crop)\n",
    "        my_image = my_image.reshape((1, my_image.shape[0], my_image.shape[1], my_image.shape[2]))\n",
    "        ans = intensity_model.predict(my_image)\n",
    "        ans_class = np.argmax(ans)\n",
    "        classes = [\"mild cataract\", \"healthy eyes\", \"severe cataract\"]\n",
    "        if ans_class == 1:\n",
    "            print(\"{:20} \\t {:20s} \\t {:20s} \\t {:20s} \\t {}\".format(count, file, sub, classes[ans_class], sub == classes[ans_class]))\n",
    "        elif ans_class == 0:\n",
    "            print(\"{:20} \\t {:20s} \\t {:20s} \\t {:20s} \\t {}\".format(count, file, sub, classes[ans_class], sub == classes[ans_class]))\n",
    "        else:\n",
    "            print(\"{:20} \\t {:20s} \\t {:20s} \\t {:20s} \\t {}\".format(count, file, sub, classes[ans_class], sub == classes[ans_class]))"
   ]
  },
  {
   "cell_type": "code",
   "execution_count": null,
   "metadata": {},
   "outputs": [],
   "source": []
  }
 ],
 "metadata": {
  "kernelspec": {
   "display_name": "Python 3",
   "language": "python",
   "name": "python3"
  },
  "language_info": {
   "codemirror_mode": {
    "name": "ipython",
    "version": 3
   },
   "file_extension": ".py",
   "mimetype": "text/x-python",
   "name": "python",
   "nbconvert_exporter": "python",
   "pygments_lexer": "ipython3",
   "version": "3.8.5"
  }
 },
 "nbformat": 4,
 "nbformat_minor": 4
}
